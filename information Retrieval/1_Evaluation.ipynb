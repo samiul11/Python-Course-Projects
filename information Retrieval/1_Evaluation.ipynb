{
 "cells": [
  {
   "cell_type": "markdown",
   "metadata": {},
   "source": [
    "# Assignment 2A, Part 1: Evaluation\n",
    "\n",
    "You are given two sample files, `data/sample_ranking.csv` and `data/sample_qrels.csv`, to test your solution.\n",
    "\n",
    "This notebook is to be used for evaluating the rankings generated in [Part 2](2_Retrieval.ipynb) and [Part 3](3_Multifield_retrieval.ipynb)."
   ]
  },
  {
   "cell_type": "code",
   "execution_count": 1,
   "metadata": {},
   "outputs": [],
   "source": [
    "#RANKING_FILE = \"data/bm25_output.csv\"  # file with the document rankings\n",
    "RANKING_FILE = \"data/lm_output.csv\"  # file with the document rankings\n",
    "QRELS_FILE = \"data/qrels2.csv\"  # file with the relevance judgments (ground truth)"
   ]
  },
  {
   "cell_type": "markdown",
   "metadata": {},
   "source": [
    "**TODO**: Complete the function that calculates evaluation metrics for a given a ranking (`ranking`) against the ground truth (`gt`). It should return the results as a dictionary, where the key is the retrieval metric.\n",
    "\n",
    "(Hint: see [Exercises #1 and #2 from Lecture 8](https://github.com/kbalog/uis-dat640-fall2019/tree/master/exercises/lecture_08).)"
   ]
  },
  {
   "cell_type": "code",
   "execution_count": 2,
   "metadata": {},
   "outputs": [],
   "source": [
    "def eval_query(ranking, gt):\n",
    "    \"\"\"Calculates the ranking against the ground truth for a given query.\"\"\"\n",
    "    p10, ap, rr, num_rel = 0, 0, 0, 0\n",
    "    \n",
    "    for i, doc_id in enumerate(ranking):\n",
    "        if doc_id in gt:  # doc is relevant\n",
    "            num_rel += 1  \n",
    "            pi = num_rel / (i + 1)  # P@i\n",
    "            ap += pi  # AP\n",
    "            if i < 10:  # P@10\n",
    "                p10 += 1\n",
    "            if rr == 0:  # Reciprocal rank\n",
    "                rr = 1 / (i + 1)\n",
    "\n",
    "    \n",
    "    p10 /= 10\n",
    "    ap /= len(gt)   # divide by the number of relevant documents\n",
    "    \n",
    "    return {\"P10\": p10, \"AP\": ap, \"RR\": rr}"
   ]
  },
  {
   "cell_type": "markdown",
   "metadata": {},
   "source": [
    "**TODO**: Complete the function that evaluates an output file, which contains rankings for a set of queries. It is almost complete, you just need to add the computation of mean scores (over the entire query set)."
   ]
  },
  {
   "cell_type": "code",
   "execution_count": 3,
   "metadata": {},
   "outputs": [],
   "source": [
    "def eval(gt_file, output_file):\n",
    "    \"\"\"Prints evaluation scores for each query as well as the means over the query set.\"\"\"\n",
    "    # load data from ground truth file\n",
    "    gt = {}  # holds a list of relevant documents for each queryID\n",
    "    with open(gt_file, \"r\") as fin:\n",
    "        header = fin.readline().strip()\n",
    "        if header != \"queryID,docIDs\":\n",
    "            raise Exception(\"Incorrect file format!\")\n",
    "        for line in fin.readlines():\n",
    "            qid, docids = line.strip().split(\",\")\n",
    "            gt[qid] = docids.split()\n",
    "         \n",
    "    # load data from output file\n",
    "    output = {}\n",
    "    with open(output_file, \"r\") as fin:\n",
    "        header = fin.readline().strip()\n",
    "        if header != \"QueryId,DocumentId\":\n",
    "            raise Exception(\"Incorrect file format!\")\n",
    "        for line in fin.readlines():\n",
    "            qid, docid = line.strip().split(\",\")\n",
    "            if qid not in output:\n",
    "                output[qid] = []\n",
    "            output[qid].append(docid)\n",
    "    # evaluate each query that is in the ground truth\n",
    "    print(\"  QID  P@10   (M)AP  (M)RR\")\n",
    "    sum_p10, sum_ap, sum_rr = 0, 0, 0\n",
    "    for qid in sorted(gt.keys()):\n",
    "        \n",
    "        res = eval_query(output.get(qid, []), gt.get(qid, []))\n",
    "        sum_p10 += res[\"P10\"]\n",
    "        sum_ap += res[\"AP\"]\n",
    "        sum_rr += res[\"RR\"]\n",
    "\n",
    "        print(\"%5s %6.3f %6.3f %6.3f\" % (qid, res[\"P10\"], res[\"AP\"], res[\"RR\"]))\n",
    "    \n",
    "    # TODO compute averages over the entire query set\n",
    "    \n",
    "    # print averages\n",
    "    print(\"%5s %6.3f %6.3f %6.3f\" % (\"ALL\", sum_p10, sum_ap, sum_rr))\n",
    "    \n",
    "    print(\"%5s %6.3f %6.3f %6.3f\" %  ('AVG',round(sum_p10 / len(output), 3), round(sum_ap / len(output), 3), round(sum_rr / len(output), 3)))"
   ]
  },
  {
   "cell_type": "markdown",
   "metadata": {},
   "source": [
    "### Main"
   ]
  },
  {
   "cell_type": "code",
   "execution_count": 4,
   "metadata": {},
   "outputs": [
    {
     "ename": "FileNotFoundError",
     "evalue": "[Errno 2] No such file or directory: 'data/lm_jm_output.csv'",
     "output_type": "error",
     "traceback": [
      "\u001b[1;31m---------------------------------------------------------------------------\u001b[0m",
      "\u001b[1;31mFileNotFoundError\u001b[0m                         Traceback (most recent call last)",
      "\u001b[1;32m<ipython-input-4-fd85950ef5a3>\u001b[0m in \u001b[0;36m<module>\u001b[1;34m\u001b[0m\n\u001b[0;32m      1\u001b[0m \u001b[0mRANKING_FILE\u001b[0m \u001b[1;33m=\u001b[0m \u001b[1;34m\"data/lm_jm_output.csv\"\u001b[0m  \u001b[1;31m# file with the document rankings\u001b[0m\u001b[1;33m\u001b[0m\u001b[1;33m\u001b[0m\u001b[0m\n\u001b[1;32m----> 2\u001b[1;33m \u001b[0meval\u001b[0m\u001b[1;33m(\u001b[0m\u001b[0mQRELS_FILE\u001b[0m\u001b[1;33m,\u001b[0m \u001b[0mRANKING_FILE\u001b[0m\u001b[1;33m)\u001b[0m\u001b[1;33m\u001b[0m\u001b[1;33m\u001b[0m\u001b[0m\n\u001b[0m",
      "\u001b[1;32m<ipython-input-3-5bd0a6baa283>\u001b[0m in \u001b[0;36meval\u001b[1;34m(gt_file, output_file)\u001b[0m\n\u001b[0;32m     13\u001b[0m     \u001b[1;31m# load data from output file\u001b[0m\u001b[1;33m\u001b[0m\u001b[1;33m\u001b[0m\u001b[1;33m\u001b[0m\u001b[0m\n\u001b[0;32m     14\u001b[0m     \u001b[0moutput\u001b[0m \u001b[1;33m=\u001b[0m \u001b[1;33m{\u001b[0m\u001b[1;33m}\u001b[0m\u001b[1;33m\u001b[0m\u001b[1;33m\u001b[0m\u001b[0m\n\u001b[1;32m---> 15\u001b[1;33m     \u001b[1;32mwith\u001b[0m \u001b[0mopen\u001b[0m\u001b[1;33m(\u001b[0m\u001b[0moutput_file\u001b[0m\u001b[1;33m,\u001b[0m \u001b[1;34m\"r\"\u001b[0m\u001b[1;33m)\u001b[0m \u001b[1;32mas\u001b[0m \u001b[0mfin\u001b[0m\u001b[1;33m:\u001b[0m\u001b[1;33m\u001b[0m\u001b[1;33m\u001b[0m\u001b[0m\n\u001b[0m\u001b[0;32m     16\u001b[0m         \u001b[0mheader\u001b[0m \u001b[1;33m=\u001b[0m \u001b[0mfin\u001b[0m\u001b[1;33m.\u001b[0m\u001b[0mreadline\u001b[0m\u001b[1;33m(\u001b[0m\u001b[1;33m)\u001b[0m\u001b[1;33m.\u001b[0m\u001b[0mstrip\u001b[0m\u001b[1;33m(\u001b[0m\u001b[1;33m)\u001b[0m\u001b[1;33m\u001b[0m\u001b[1;33m\u001b[0m\u001b[0m\n\u001b[0;32m     17\u001b[0m         \u001b[1;32mif\u001b[0m \u001b[0mheader\u001b[0m \u001b[1;33m!=\u001b[0m \u001b[1;34m\"QueryId,DocumentId\"\u001b[0m\u001b[1;33m:\u001b[0m\u001b[1;33m\u001b[0m\u001b[1;33m\u001b[0m\u001b[0m\n",
      "\u001b[1;31mFileNotFoundError\u001b[0m: [Errno 2] No such file or directory: 'data/lm_jm_output.csv'"
     ]
    }
   ],
   "source": [
    "RANKING_FILE = \"data/lm_jm_output.csv\"  # file with the document rankings\n",
    "eval(QRELS_FILE, RANKING_FILE)"
   ]
  },
  {
   "cell_type": "code",
   "execution_count": 5,
   "metadata": {},
   "outputs": [
    {
     "name": "stdout",
     "output_type": "stream",
     "text": [
      "  QID  P@10   (M)AP  (M)RR\n",
      "  303  0.400  0.324  1.000\n",
      "  307  0.100  0.028  0.143\n",
      "  310  0.100  0.016  0.143\n",
      "  314  0.100  0.071  0.500\n",
      "  322  0.000  0.005  0.077\n",
      "  325  0.000  0.000  0.000\n",
      "  330  0.000  0.000  0.000\n",
      "  336  0.300  0.341  0.333\n",
      "  341  0.100  0.043  0.143\n",
      "  344  0.100  0.010  0.111\n",
      "  347  0.500  0.068  1.000\n",
      "  353  0.000  0.000  0.000\n",
      "  354  0.800  0.044  1.000\n",
      "  362  0.600  0.210  0.333\n",
      "  363  0.500  0.106  1.000\n",
      "  367  0.000  0.019  0.091\n",
      "  372  0.000  0.016  0.031\n",
      "  374  0.500  0.215  0.200\n",
      "  383  0.300  0.030  0.143\n",
      "  389  0.000  0.000  0.000\n",
      "  393  0.000  0.018  0.091\n",
      "  399  0.700  0.172  1.000\n",
      "  401  0.400  0.052  1.000\n",
      "  404  0.200  0.028  0.250\n",
      "  408  0.100  0.005  0.500\n",
      "  409  0.200  0.107  1.000\n",
      "  416  0.000  0.048  0.071\n",
      "  419  0.300  0.140  0.333\n",
      "  426  0.000  0.031  0.050\n",
      "  427  0.600  0.431  0.500\n",
      "  433  0.200  0.156  1.000\n",
      "  435  0.100  0.021  0.333\n",
      "  436  0.400  0.131  1.000\n",
      "  439  0.000  0.007  0.077\n",
      "  443  0.300  0.074  0.500\n",
      "  448  0.000  0.002  0.050\n",
      "  622  0.700  0.161  1.000\n",
      "  625  0.000  0.002  0.027\n",
      "  638  0.500  0.068  0.250\n",
      "  639  0.300  0.075  0.143\n",
      "  648  0.500  0.286  0.500\n",
      "  650  0.200  0.112  0.500\n",
      "  651  0.000  0.002  0.023\n",
      "  658  0.700  0.353  0.333\n",
      "  689  0.200  0.066  1.000\n",
      "  ALL 11.000  4.092 17.781\n",
      "  AVG  0.220  0.082  0.356\n"
     ]
    }
   ],
   "source": [
    "RANKING_FILE = \"data/bm25_output.csv\"  # file with the document rankings\n",
    "eval(QRELS_FILE, RANKING_FILE)"
   ]
  },
  {
   "cell_type": "code",
   "execution_count": 31,
   "metadata": {},
   "outputs": [
    {
     "name": "stdout",
     "output_type": "stream",
     "text": [
      "  QID  P@10   (M)AP  (M)RR\n",
      "  303  0.000  0.000  0.000\n",
      "  307  0.000  0.000  0.000\n",
      "  310  0.000  0.000  0.000\n",
      "  314  0.000  0.000  0.000\n",
      "  322  0.000  0.000  0.000\n",
      "  325  0.000  0.000  0.000\n",
      "  330  0.000  0.000  0.000\n",
      "  336  0.000  0.000  0.000\n",
      "  341  0.000  0.000  0.000\n",
      "  344  0.000  0.000  0.000\n",
      "  347  0.200  0.022  0.200\n",
      "  353  0.000  0.000  0.000\n",
      "  354  0.300  0.016  0.167\n",
      "  362  0.000  0.000  0.000\n",
      "  363  0.000  0.000  0.018\n",
      "  367  0.200  0.027  0.500\n",
      "  372  0.000  0.000  0.000\n",
      "  374  0.000  0.000  0.000\n",
      "  383  0.000  0.000  0.000\n",
      "  389  0.000  0.000  0.000\n",
      "  393  0.000  0.000  0.000\n",
      "  399  0.100  0.008  1.000\n",
      "  401  0.000  0.000  0.010\n",
      "  404  0.000  0.000  0.000\n",
      "  408  0.000  0.000  0.011\n",
      "  409  0.000  0.000  0.000\n",
      "  416  0.000  0.000  0.000\n",
      "  419  0.000  0.004  0.050\n",
      "  426  0.000  0.000  0.000\n",
      "  427  0.000  0.000  0.000\n",
      "  433  0.000  0.000  0.000\n",
      "  435  0.000  0.000  0.000\n",
      "  436  0.000  0.000  0.000\n",
      "  439  0.000  0.000  0.000\n",
      "  443  0.000  0.000  0.000\n",
      "  448  0.000  0.000  0.019\n",
      "  622  0.000  0.000  0.000\n",
      "  625  0.000  0.000  0.000\n",
      "  638  0.000  0.000  0.000\n",
      "  639  0.000  0.000  0.000\n",
      "  648  0.000  0.000  0.000\n",
      "  650  0.000  0.000  0.000\n",
      "  651  0.000  0.000  0.000\n",
      "  658  0.000  0.001  0.043\n",
      "  689  0.000  0.000  0.000\n",
      "  ALL  0.800  0.079  2.019\n",
      "  AVG  0.016  0.002  0.040\n"
     ]
    }
   ],
   "source": [
    "RANKING_FILE = \"data/lm_dir_output.csv\"  # file with the document rankings\n",
    "eval(QRELS_FILE, RANKING_FILE)"
   ]
  },
  {
   "cell_type": "code",
   "execution_count": 23,
   "metadata": {},
   "outputs": [
    {
     "name": "stdout",
     "output_type": "stream",
     "text": [
      "  QID  P@10   (M)AP  (M)RR\n",
      "  303  0.600  0.317  1.000\n",
      "  307  0.100  0.033  0.167\n",
      "  310  0.000  0.010  0.091\n",
      "  314  0.100  0.071  0.500\n",
      "  322  0.000  0.003  0.043\n",
      "  325  0.000  0.000  0.000\n",
      "  330  0.000  0.000  0.000\n",
      "  336  0.300  0.299  0.333\n",
      "  341  0.000  0.011  0.019\n",
      "  344  0.100  0.011  0.125\n",
      "  347  0.500  0.052  1.000\n",
      "  353  0.000  0.000  0.000\n",
      "  354  0.900  0.050  1.000\n",
      "  362  0.800  0.237  0.500\n",
      "  363  0.600  0.106  1.000\n",
      "  367  0.000  0.029  0.071\n",
      "  372  0.000  0.017  0.033\n",
      "  374  0.600  0.247  1.000\n",
      "  383  0.100  0.022  0.125\n",
      "  389  0.000  0.000  0.000\n",
      "  393  0.000  0.014  0.071\n",
      "  399  0.900  0.172  1.000\n",
      "  401  0.200  0.031  0.333\n",
      "  404  0.200  0.013  0.167\n",
      "  408  0.000  0.001  0.034\n",
      "  409  0.400  0.098  0.500\n",
      "  416  0.100  0.026  0.100\n",
      "  419  0.300  0.177  0.500\n",
      "  426  0.000  0.027  0.042\n",
      "  427  0.700  0.456  0.500\n",
      "  433  0.200  0.157  1.000\n",
      "  435  0.100  0.029  0.167\n",
      "  436  0.600  0.115  0.500\n",
      "  439  0.000  0.006  0.071\n",
      "  443  0.400  0.101  0.500\n",
      "  448  0.000  0.002  0.042\n",
      "  622  0.700  0.136  1.000\n",
      "  625  0.000  0.004  0.033\n",
      "  638  0.200  0.050  0.500\n",
      "  639  0.000  0.030  0.031\n",
      "  648  0.500  0.291  0.500\n",
      "  650  0.200  0.074  0.200\n",
      "  651  0.000  0.007  0.028\n",
      "  658  0.800  0.393  1.000\n",
      "  689  0.200  0.046  0.500\n",
      "  ALL 11.400  3.972 16.328\n",
      "  AVG  0.228  0.079  0.327\n"
     ]
    }
   ],
   "source": [
    "RANKING_FILE = \"data/bm25F_output.csv\"  # file with the document rankings\n",
    "eval(QRELS_FILE, RANKING_FILE)"
   ]
  },
  {
   "cell_type": "code",
   "execution_count": 7,
   "metadata": {},
   "outputs": [
    {
     "name": "stdout",
     "output_type": "stream",
     "text": [
      "  QID  P@10   (M)AP  (M)RR\n",
      "  303  0.700  0.383  1.000\n",
      "  307  0.000  0.000  0.000\n",
      "  310  0.000  0.000  0.002\n",
      "  314  0.000  0.000  0.000\n",
      "  322  0.000  0.000  0.000\n",
      "  325  0.000  0.009  0.009\n",
      "  330  0.000  0.000  0.000\n",
      "  336  0.000  0.001  0.004\n",
      "  341  0.000  0.001  0.002\n",
      "  344  0.000  0.000  0.001\n",
      "  347  0.000  0.050  0.091\n",
      "  353  0.000  0.000  0.000\n",
      "  354  0.200  0.123  0.500\n",
      "  362  0.100  0.009  0.167\n",
      "  363  0.000  0.001  0.001\n",
      "  367  0.000  0.042  0.042\n",
      "  372  0.000  0.000  0.000\n",
      "  374  0.400  0.362  0.200\n",
      "  383  0.000  0.004  0.007\n",
      "  389  0.000  0.000  0.000\n",
      "  393  0.000  0.010  0.023\n",
      "  399  0.400  0.107  0.200\n",
      "  401  0.000  0.001  0.031\n",
      "  404  0.000  0.010  0.026\n",
      "  408  0.000  0.023  0.017\n",
      "  409  0.000  0.001  0.000\n",
      "  416  0.000  0.001  0.000\n",
      "  419  0.000  0.009  0.014\n",
      "  426  0.000  0.001  0.001\n",
      "  427  0.000  0.086  0.059\n",
      "  433  0.000  0.000  0.000\n",
      "  435  0.000  0.002  0.000\n",
      "  436  0.000  0.017  0.043\n",
      "  439  0.100  0.029  0.167\n",
      "  443  0.000  0.001  0.001\n",
      "  448  0.000  0.009  0.006\n",
      "  622  0.000  0.002  0.005\n",
      "  625  0.000  0.001  0.001\n",
      "  638  0.000  0.001  0.005\n",
      "  639  0.000  0.000  0.000\n",
      "  648  0.000  0.003  0.008\n",
      "  650  0.000  0.001  0.001\n",
      "  651  0.000  0.000  0.001\n",
      "  658  0.000  0.003  0.005\n",
      "  689  0.300  0.106  1.000\n",
      "  ALL  2.200  1.410  3.639\n",
      "  AVG  0.044  0.028  0.073\n"
     ]
    }
   ],
   "source": [
    "RANKING_FILE = \"data/output_mlm_jm.csv\"  # file with the document rankings\n",
    "eval(QRELS_FILE, RANKING_FILE)"
   ]
  },
  {
   "cell_type": "code",
   "execution_count": null,
   "metadata": {},
   "outputs": [],
   "source": []
  }
 ],
 "metadata": {
  "kernelspec": {
   "display_name": "Python 3",
   "language": "python",
   "name": "python3"
  },
  "language_info": {
   "codemirror_mode": {
    "name": "ipython",
    "version": 3
   },
   "file_extension": ".py",
   "mimetype": "text/x-python",
   "name": "python",
   "nbconvert_exporter": "python",
   "pygments_lexer": "ipython3",
   "version": "3.7.3"
  }
 },
 "nbformat": 4,
 "nbformat_minor": 4
}
