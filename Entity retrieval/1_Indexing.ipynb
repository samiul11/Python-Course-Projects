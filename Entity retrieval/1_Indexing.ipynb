{
 "cells": [
  {
   "cell_type": "markdown",
   "metadata": {},
   "source": [
    "# Assignment 3 : Indexing\n",
    "\n",
    "## Team-005\n",
    "\n",
    "\n",
    "###  Indexing DBPedia Data\n"
   ]
  },
  {
   "cell_type": "code",
   "execution_count": 19,
   "metadata": {},
   "outputs": [],
   "source": [
    "import pandas as pd\n",
    "from pandas import DataFrame, Series\n",
    "import json\n",
    "from elasticsearch import Elasticsearch\n",
    "import re"
   ]
  },
  {
   "cell_type": "markdown",
   "metadata": {},
   "source": [
    "## Subcollections and Pre-processing\n",
    "\n",
    "We indexed these subcollections in full: `labels_en`, `long_abstracts_en`, `article_categories_en` and `page_links_en`\n",
    "\n",
    "Since the dbpedia data is distributed in subcollections, it was necessary to perform pre-processing tasks on the data such as looking up (resolving) predicate values. Given the large sizes of the collections, we opted to perform this pre-processing with the help of thrid party tools as described in the report.\n",
    "Ultimately, the pre-processed data was dumped in a single text file `entities_cleaned.txt` that can be accessed [here](https://drive.google.com/open?id=17hMZECtkvKCypqHB9N1FStwD6Oq9N5D_)\n",
    "\n",
    "### Settings\n",
    "\n",
    "We used 1 shard and 0 replicas because the index was run locally on the machine"
   ]
  },
  {
   "cell_type": "code",
   "execution_count": 3,
   "metadata": {},
   "outputs": [],
   "source": [
    "SETTINGS = {\n",
    "    \"index\": {\n",
    "        \"number_of_shards\": 1,\n",
    "        \"number_of_replicas\": 0\n",
    "    }\n",
    "}"
   ]
  },
  {
   "cell_type": "markdown",
   "metadata": {},
   "source": [
    "Used the default `english` analyzer and made sure to build a positional index with \"term_vector\" set to `with_positions` "
   ]
  },
  {
   "cell_type": "code",
   "execution_count": 4,
   "metadata": {},
   "outputs": [],
   "source": [
    "TEXT_PROPERTIES = {\n",
    "    \"type\": \"text\",\n",
    "    \"term_vector\": \"with_positions\",\n",
    "    \"analyzer\": \"english\"\n",
    "}\n",
    "\n",
    "TEXT_INDEX_SETTINGS = {\n",
    "    \"settings\": SETTINGS,\n",
    "    \"mappings\": {\n",
    "        \"properties\": {\n",
    "            \"names\": TEXT_PROPERTIES,\n",
    "            \"categories\": TEXT_PROPERTIES,\n",
    "            \"similar_entities\": TEXT_PROPERTIES,\n",
    "            \"abstract\": TEXT_PROPERTIES,\n",
    "            \"catch_all\": TEXT_PROPERTIES\n",
    "        }\n",
    "    }\n",
    "}"
   ]
  },
  {
   "cell_type": "markdown",
   "metadata": {},
   "source": [
    "The data directory with the mentioned `entities_cleaned.txt` file. This file can be downloaded from the link above"
   ]
  },
  {
   "cell_type": "code",
   "execution_count": 9,
   "metadata": {},
   "outputs": [],
   "source": [
    "DATA_DIR = \"data/\""
   ]
  },
  {
   "cell_type": "markdown",
   "metadata": {},
   "source": [
    "Check if a pre-existing index with the same name exists and delete it, then proceed to creating a new index"
   ]
  },
  {
   "cell_type": "code",
   "execution_count": 6,
   "metadata": {},
   "outputs": [
    {
     "name": "stdout",
     "output_type": "stream",
     "text": [
      "Creating the index: {'acknowledged': True, 'shards_acknowledged': True, 'index': 'dbpedia_tex'}\n"
     ]
    }
   ],
   "source": [
    "INDEX_NAME = \"dbpedia_text\"\n",
    "\n",
    "es = Elasticsearch()\n",
    "\n",
    "if es.indices.exists(INDEX_NAME):\n",
    "    # Delete the index if it exists\n",
    "    resp = es.indices.delete(INDEX_NAME)\n",
    "    print(f\"Deleting the existing index: {resp}\")\n",
    "\n",
    "resp = es.indices.create(index=INDEX_NAME, body=TEXT_INDEX_SETTINGS)\n",
    "print(f\"Creating the index: {resp}\")"
   ]
  },
  {
   "cell_type": "markdown",
   "metadata": {},
   "source": [
    "Since the `entities_cleaned.txt` file is quite huge (4GB), we use pandas to iterate through the text file and process it in chunks\n",
    "\n",
    "For each chunk, construct a body dictionary with `[names, categories, similar_entities, abstract, catch_all]` as the names of the fields .\n",
    "We use `es.bulk()` method to bulk index the chunk .\n",
    "Printing the cumulative entities indexed in every chunk helps to show the indexing progress"
   ]
  },
  {
   "cell_type": "code",
   "execution_count": 11,
   "metadata": {},
   "outputs": [
    {
     "name": "stdout",
     "output_type": "stream",
     "text": [
      "10000\n",
      "----------------------------------------------------------------------------------------------------\n",
      "Finished indexing all the entities into index:  dbpedia_tex\n"
     ]
    }
   ],
   "source": [
    "# ENTITIES FILE\n",
    "file_count = 0\n",
    "chunks = pd.read_csv(DATA_DIR+\"entities_cleaned.txt\",\n",
    "                     delimiter=';p;', skiprows=1,\n",
    "                     names=['subject', 'label', 'page_link_entities',\n",
    "                            'category_entities',\n",
    "                            'category_names', 'abstract', 'page_link_names'],\n",
    "                     engine='python', chunksize=10000)\n",
    "\n",
    "for df in chunks:\n",
    "    df['page_link_names'].replace(\n",
    "        to_replace='[\\s_;]+', value=' ', inplace=True, regex=True)\n",
    "    bulk_data = []\n",
    "    entity_list = json.loads(df.to_json(orient='records'))\n",
    "\n",
    "    for entity in entity_list:\n",
    "        catch_all_fields = [\n",
    "            str(entity.get('label', \" \")),\n",
    "            str(entity.get('page_link_names', ' ')),\n",
    "            str(entity.get('category_names', ' ')),\n",
    "            str(entity.get('abstract', ' '))\n",
    "        ]\n",
    "        bulk_data.append(\n",
    "            {\n",
    "                \"index\": {\n",
    "                    \"_index\": INDEX_NAME,\n",
    "                    \"_id\": entity['subject']\n",
    "                }\n",
    "            }\n",
    "        )\n",
    "        bulk_data.append(\n",
    "            {\n",
    "                'names': entity.get('label', ' '),\n",
    "                'categories': entity.get('category_names', ' '),\n",
    "                'similar_entities': entity.get('page_link_names', ' '),\n",
    "                'abstract': entity.get('abstract', ' '),\n",
    "                'catch_all': \"\".join(catch_all_fields)\n",
    "            }\n",
    "        )\n",
    "\n",
    "    es.bulk(index=INDEX_NAME, body=bulk_data, refresh=True)\n",
    "\n",
    "    file_count = file_count+df.shape[0]\n",
    "    print(file_count)\n",
    "    \n",
    "    break # This can be removed to run the entire index\n",
    "\n",
    "\n",
    "print(\"-\"*100)\n",
    "print(\"Finished indexing all the entities into index:  {}\".format(INDEX_NAME))\n"
   ]
  },
  {
   "cell_type": "markdown",
   "metadata": {},
   "source": [
    "## Generating First Pass Files\n",
    "\n",
    "Initializing input and output filenames and index"
   ]
  },
  {
   "cell_type": "code",
   "execution_count": 14,
   "metadata": {},
   "outputs": [],
   "source": [
    "QUERIES_1 = \"data/queries.txt\"\n",
    "QUERIES_2 = \"data/queries2.txt\"\n",
    "QUERIES_1_FIRST_PASS = \"data/first_pass_bm25_one.csv\"\n",
    "QUERIES_2_FIRST_PASS = \"data/first_pass_bm25_two.csv\"\n",
    "\n",
    "INDEX_NAME = \"dbpedia_text\"\n",
    "\n",
    "es = Elasticsearch()"
   ]
  },
  {
   "cell_type": "markdown",
   "metadata": {},
   "source": [
    "Creating a function to load a list of dictionary of queries in the format `{'QueryId': val, 'Query': val}`"
   ]
  },
  {
   "cell_type": "code",
   "execution_count": 15,
   "metadata": {},
   "outputs": [],
   "source": [
    "# Loading the actual queries\n",
    "def load_queries(queries_file):\n",
    "    queries_df = pd.read_csv(queries_file, header=None, delimiter=';')\n",
    "    df = queries_df.replace(to_replace=['^\\S+\\d+\\s'], value='', regex=True)\n",
    "    queries_df = queries_df.applymap(\n",
    "        lambda x: re.findall(r'^\\S+\\d+\\s', x)[0].strip())\n",
    "    queries_df = queries_df.merge(df, right_index=True, left_index=True)\n",
    "    queries_df.columns = ['QueryId', 'Query']\n",
    "\n",
    "    return queries_df.to_dict(orient='records')"
   ]
  },
  {
   "cell_type": "markdown",
   "metadata": {},
   "source": [
    "Searching each query's top 100 entities from index"
   ]
  },
  {
   "cell_type": "code",
   "execution_count": 16,
   "metadata": {},
   "outputs": [],
   "source": [
    "def search(query, query_id):\n",
    "    res = es.search(index=INDEX_NAME, q=query, size=100,\n",
    "                    _source=False, analyzer='english', request_timeout=30)\n",
    "    hits = res['hits']['hits']\n",
    "    matched_entities = [(query_id, entity['_id']) for entity in hits]\n",
    "\n",
    "    return DataFrame.from_records(matched_entities)"
   ]
  },
  {
   "cell_type": "markdown",
   "metadata": {},
   "source": [
    "Generating the first pass file"
   ]
  },
  {
   "cell_type": "code",
   "execution_count": 17,
   "metadata": {},
   "outputs": [],
   "source": [
    "def generate_first_pass_file(queries_file, output_file):\n",
    "    query_top_100_dfs = []\n",
    "\n",
    "    queries = load_queries(queries_file)\n",
    "    for q in queries:\n",
    "        print(f\"Searching entities for query: {q['QueryId']}\")\n",
    "        top_100 = search(q['Query'], q['QueryId'])\n",
    "        query_top_100_dfs.append(top_100)\n",
    "\n",
    "    query_entity_df = pd.concat(query_top_100_dfs, ignore_index=True)\n",
    "    query_entity_df.columns = ['QueryId', 'EntityId']\n",
    "\n",
    "    with open(output_file, 'w', encoding=\"utf-8\", errors='ignore') as f:\n",
    "        f.write(\"QueryId,EntityId\\n\")\n",
    "        for rec in query_entity_df.to_dict(orient='records'):\n",
    "            f.write(\"{},{}\\n\".format(rec['QueryId'], '\"'+rec['EntityId']+'\"'))\n",
    "\n",
    "    print(\"-\"*100)\n",
    "    print(\n",
    "        f\"Finished generating first pass file for {len(queries)} queries\")"
   ]
  },
  {
   "cell_type": "markdown",
   "metadata": {},
   "source": [
    "Reading from files and generating first pass files"
   ]
  },
  {
   "cell_type": "code",
   "execution_count": 20,
   "metadata": {},
   "outputs": [
    {
     "name": "stdout",
     "output_type": "stream",
     "text": [
      "Searching entities for query: INEX_LD-2009022\n",
      "Searching entities for query: INEX_LD-2009053\n",
      "Searching entities for query: INEX_LD-2009062\n",
      "Searching entities for query: INEX_LD-2009074\n",
      "Searching entities for query: INEX_LD-2009111\n",
      "Searching entities for query: INEX_LD-2010004\n",
      "Searching entities for query: INEX_LD-2010019\n",
      "Searching entities for query: INEX_LD-2010037\n",
      "Searching entities for query: INEX_LD-2010057\n",
      "Searching entities for query: INEX_LD-2010100\n",
      "Searching entities for query: INEX_LD-20120111\n",
      "Searching entities for query: INEX_LD-20120121\n",
      "Searching entities for query: INEX_LD-20120131\n",
      "Searching entities for query: INEX_LD-20120211\n",
      "Searching entities for query: INEX_LD-20120221\n",
      "Searching entities for query: INEX_LD-20120231\n",
      "Searching entities for query: INEX_LD-20120311\n",
      "Searching entities for query: INEX_LD-20120321\n",
      "Searching entities for query: INEX_LD-20120331\n",
      "Searching entities for query: INEX_LD-20120411\n",
      "Searching entities for query: INEX_LD-20120421\n",
      "Searching entities for query: INEX_LD-20120431\n",
      "Searching entities for query: INEX_LD-20120511\n",
      "Searching entities for query: INEX_LD-20120521\n",
      "Searching entities for query: INEX_LD-20120531\n",
      "Searching entities for query: INEX_LD-2012301\n",
      "Searching entities for query: INEX_LD-2012305\n",
      "Searching entities for query: INEX_LD-2012309\n",
      "Searching entities for query: INEX_LD-2012313\n",
      "Searching entities for query: INEX_LD-2012317\n",
      "Searching entities for query: INEX_LD-2012319\n",
      "Searching entities for query: INEX_LD-2012323\n",
      "Searching entities for query: INEX_LD-2012327\n",
      "Searching entities for query: INEX_LD-2012331\n",
      "Searching entities for query: INEX_LD-2012335\n",
      "Searching entities for query: INEX_LD-2012337\n",
      "Searching entities for query: INEX_LD-2012341\n",
      "Searching entities for query: INEX_LD-2012345\n",
      "Searching entities for query: INEX_LD-2012349\n",
      "Searching entities for query: INEX_LD-2012353\n",
      "Searching entities for query: INEX_LD-2012355\n",
      "Searching entities for query: INEX_LD-2012359\n",
      "Searching entities for query: INEX_LD-2012363\n",
      "Searching entities for query: INEX_LD-2012367\n",
      "Searching entities for query: INEX_LD-2012371\n",
      "Searching entities for query: INEX_LD-2012373\n",
      "Searching entities for query: INEX_LD-2012377\n",
      "Searching entities for query: INEX_LD-2012383\n",
      "Searching entities for query: INEX_LD-2012387\n",
      "Searching entities for query: INEX_LD-2012390\n",
      "Searching entities for query: INEX_XER-106\n",
      "Searching entities for query: INEX_XER-109\n",
      "Searching entities for query: INEX_XER-113\n",
      "Searching entities for query: INEX_XER-115\n",
      "Searching entities for query: INEX_XER-117\n",
      "Searching entities for query: INEX_XER-119\n",
      "Searching entities for query: INEX_XER-122\n",
      "Searching entities for query: INEX_XER-124\n",
      "Searching entities for query: INEX_XER-126\n",
      "Searching entities for query: INEX_XER-128\n",
      "Searching entities for query: INEX_XER-130\n",
      "Searching entities for query: INEX_XER-133\n",
      "Searching entities for query: INEX_XER-135\n",
      "Searching entities for query: INEX_XER-138\n",
      "Searching entities for query: INEX_XER-140\n",
      "Searching entities for query: INEX_XER-143\n",
      "Searching entities for query: INEX_XER-147\n",
      "Searching entities for query: INEX_XER-62\n",
      "Searching entities for query: INEX_XER-64\n",
      "Searching entities for query: INEX_XER-67\n",
      "Searching entities for query: INEX_XER-73\n",
      "Searching entities for query: INEX_XER-79\n",
      "Searching entities for query: INEX_XER-86\n",
      "Searching entities for query: INEX_XER-88\n",
      "Searching entities for query: INEX_XER-94\n",
      "Searching entities for query: INEX_XER-96\n",
      "Searching entities for query: INEX_XER-98\n",
      "Searching entities for query: QALD2_te-1\n",
      "Searching entities for query: QALD2_te-11\n",
      "Searching entities for query: QALD2_te-13\n",
      "Searching entities for query: QALD2_te-15\n",
      "Searching entities for query: QALD2_te-19\n",
      "Searching entities for query: QALD2_te-21\n",
      "Searching entities for query: QALD2_te-24\n",
      "Searching entities for query: QALD2_te-27\n",
      "Searching entities for query: QALD2_te-29\n",
      "Searching entities for query: QALD2_te-31\n",
      "Searching entities for query: QALD2_te-34\n",
      "Searching entities for query: QALD2_te-39\n",
      "Searching entities for query: QALD2_te-41\n",
      "Searching entities for query: QALD2_te-43\n",
      "Searching entities for query: QALD2_te-45\n",
      "Searching entities for query: QALD2_te-48\n",
      "Searching entities for query: QALD2_te-5\n",
      "Searching entities for query: QALD2_te-53\n",
      "Searching entities for query: QALD2_te-57\n",
      "Searching entities for query: QALD2_te-59\n",
      "Searching entities for query: QALD2_te-60\n",
      "Searching entities for query: QALD2_te-64\n",
      "Searching entities for query: QALD2_te-66\n",
      "Searching entities for query: QALD2_te-72\n",
      "Searching entities for query: QALD2_te-76\n",
      "Searching entities for query: QALD2_te-8\n",
      "Searching entities for query: QALD2_te-81\n",
      "Searching entities for query: QALD2_te-84\n",
      "Searching entities for query: QALD2_te-87\n",
      "Searching entities for query: QALD2_te-89\n",
      "Searching entities for query: QALD2_te-90\n",
      "Searching entities for query: QALD2_te-92\n",
      "Searching entities for query: QALD2_te-95\n",
      "Searching entities for query: QALD2_te-98\n",
      "Searching entities for query: QALD2_tr-1\n",
      "Searching entities for query: QALD2_tr-11\n",
      "Searching entities for query: QALD2_tr-15\n",
      "Searching entities for query: QALD2_tr-17\n",
      "Searching entities for query: QALD2_tr-21\n",
      "Searching entities for query: QALD2_tr-23\n",
      "Searching entities for query: QALD2_tr-25\n",
      "Searching entities for query: QALD2_tr-28\n",
      "Searching entities for query: QALD2_tr-3\n",
      "Searching entities for query: QALD2_tr-31\n",
      "Searching entities for query: QALD2_tr-34\n",
      "Searching entities for query: QALD2_tr-36\n",
      "Searching entities for query: QALD2_tr-4\n",
      "Searching entities for query: QALD2_tr-41\n",
      "Searching entities for query: QALD2_tr-43\n",
      "Searching entities for query: QALD2_tr-45\n",
      "Searching entities for query: QALD2_tr-49\n",
      "Searching entities for query: QALD2_tr-51\n",
      "Searching entities for query: QALD2_tr-53\n",
      "Searching entities for query: QALD2_tr-55\n",
      "Searching entities for query: QALD2_tr-58\n",
      "Searching entities for query: QALD2_tr-6\n",
      "Searching entities for query: QALD2_tr-62\n",
      "Searching entities for query: QALD2_tr-64\n",
      "Searching entities for query: QALD2_tr-68\n",
      "Searching entities for query: QALD2_tr-70\n",
      "Searching entities for query: QALD2_tr-72\n",
      "Searching entities for query: QALD2_tr-74\n",
      "Searching entities for query: QALD2_tr-77\n",
      "Searching entities for query: QALD2_tr-79\n",
      "Searching entities for query: QALD2_tr-80\n",
      "Searching entities for query: QALD2_tr-82\n",
      "Searching entities for query: QALD2_tr-84\n",
      "Searching entities for query: QALD2_tr-86\n",
      "Searching entities for query: QALD2_tr-89\n",
      "Searching entities for query: QALD2_tr-91\n",
      "Searching entities for query: SemSearch_ES-1\n",
      "Searching entities for query: SemSearch_ES-100\n",
      "Searching entities for query: SemSearch_ES-102\n",
      "Searching entities for query: SemSearch_ES-106\n",
      "Searching entities for query: SemSearch_ES-108\n",
      "Searching entities for query: SemSearch_ES-11\n",
      "Searching entities for query: SemSearch_ES-114\n",
      "Searching entities for query: SemSearch_ES-118\n",
      "Searching entities for query: SemSearch_ES-12\n",
      "Searching entities for query: SemSearch_ES-123\n",
      "Searching entities for query: SemSearch_ES-125\n",
      "Searching entities for query: SemSearch_ES-128\n",
      "Searching entities for query: SemSearch_ES-13\n",
      "Searching entities for query: SemSearch_ES-131\n",
      "Searching entities for query: SemSearch_ES-135\n",
      "Searching entities for query: SemSearch_ES-137\n",
      "Searching entities for query: SemSearch_ES-14\n",
      "Searching entities for query: SemSearch_ES-15\n",
      "Searching entities for query: SemSearch_ES-17\n",
      "Searching entities for query: SemSearch_ES-19\n",
      "Searching entities for query: SemSearch_ES-20\n",
      "Searching entities for query: SemSearch_ES-22\n",
      "Searching entities for query: SemSearch_ES-24\n",
      "Searching entities for query: SemSearch_ES-26\n",
      "Searching entities for query: SemSearch_ES-29\n",
      "Searching entities for query: SemSearch_ES-30\n",
      "Searching entities for query: SemSearch_ES-32\n",
      "Searching entities for query: SemSearch_ES-34\n",
      "Searching entities for query: SemSearch_ES-37\n",
      "Searching entities for query: SemSearch_ES-39\n",
      "Searching entities for query: SemSearch_ES-40\n",
      "Searching entities for query: SemSearch_ES-42\n",
      "Searching entities for query: SemSearch_ES-47\n",
      "Searching entities for query: SemSearch_ES-5\n",
      "Searching entities for query: SemSearch_ES-52\n",
      "Searching entities for query: SemSearch_ES-54\n",
      "Searching entities for query: SemSearch_ES-57\n",
      "Searching entities for query: SemSearch_ES-59\n",
      "Searching entities for query: SemSearch_ES-60\n"
     ]
    },
    {
     "name": "stdout",
     "output_type": "stream",
     "text": [
      "Searching entities for query: SemSearch_ES-63\n",
      "Searching entities for query: SemSearch_ES-66\n",
      "Searching entities for query: SemSearch_ES-68\n",
      "Searching entities for query: SemSearch_ES-70\n",
      "Searching entities for query: SemSearch_ES-72\n",
      "Searching entities for query: SemSearch_ES-74\n",
      "Searching entities for query: SemSearch_ES-76\n",
      "Searching entities for query: SemSearch_ES-78\n",
      "Searching entities for query: SemSearch_ES-80\n",
      "Searching entities for query: SemSearch_ES-82\n",
      "Searching entities for query: SemSearch_ES-84\n",
      "Searching entities for query: SemSearch_ES-86\n",
      "Searching entities for query: SemSearch_ES-89\n",
      "Searching entities for query: SemSearch_ES-90\n",
      "Searching entities for query: SemSearch_ES-93\n",
      "Searching entities for query: SemSearch_ES-95\n",
      "Searching entities for query: SemSearch_ES-97\n",
      "Searching entities for query: SemSearch_ES-99\n",
      "Searching entities for query: SemSearch_LS-10\n",
      "Searching entities for query: SemSearch_LS-12\n",
      "Searching entities for query: SemSearch_LS-14\n",
      "Searching entities for query: SemSearch_LS-17\n",
      "Searching entities for query: SemSearch_LS-19\n",
      "Searching entities for query: SemSearch_LS-20\n",
      "Searching entities for query: SemSearch_LS-22\n",
      "Searching entities for query: SemSearch_LS-25\n",
      "Searching entities for query: SemSearch_LS-29\n",
      "Searching entities for query: SemSearch_LS-30\n",
      "Searching entities for query: SemSearch_LS-32\n",
      "Searching entities for query: SemSearch_LS-34\n",
      "Searching entities for query: SemSearch_LS-36\n",
      "Searching entities for query: SemSearch_LS-38\n",
      "Searching entities for query: SemSearch_LS-4\n",
      "Searching entities for query: SemSearch_LS-41\n",
      "Searching entities for query: SemSearch_LS-43\n",
      "Searching entities for query: SemSearch_LS-46\n",
      "Searching entities for query: SemSearch_LS-5\n",
      "Searching entities for query: SemSearch_LS-6\n",
      "Searching entities for query: SemSearch_LS-8\n",
      "Searching entities for query: TREC_Entity-1\n",
      "Searching entities for query: TREC_Entity-11\n",
      "Searching entities for query: TREC_Entity-14\n",
      "Searching entities for query: TREC_Entity-16\n",
      "Searching entities for query: TREC_Entity-18\n",
      "Searching entities for query: TREC_Entity-2\n",
      "Searching entities for query: TREC_Entity-4\n",
      "Searching entities for query: TREC_Entity-6\n",
      "Searching entities for query: TREC_Entity-9\n",
      "----------------------------------------------------------------------------------------------------\n",
      "Finished generating first pass file for 234 queries\n"
     ]
    }
   ],
   "source": [
    "# Generating first pass file for `Queries.txt`\n",
    "generate_first_pass_file(QUERIES_1, QUERIES_1_FIRST_PASS)"
   ]
  },
  {
   "cell_type": "code",
   "execution_count": null,
   "metadata": {},
   "outputs": [],
   "source": [
    "# Generating first pass file for `Queries2.txt`\n",
    "generate_first_pass_file(QUERIES_2, QUERIES_2_FIRST_PASS)"
   ]
  }
 ],
 "metadata": {
  "kernelspec": {
   "display_name": "Python 3",
   "language": "python",
   "name": "python3"
  },
  "language_info": {
   "codemirror_mode": {
    "name": "ipython",
    "version": 3
   },
   "file_extension": ".py",
   "mimetype": "text/x-python",
   "name": "python",
   "nbconvert_exporter": "python",
   "pygments_lexer": "ipython3",
   "version": "3.7.3"
  }
 },
 "nbformat": 4,
 "nbformat_minor": 2
}
